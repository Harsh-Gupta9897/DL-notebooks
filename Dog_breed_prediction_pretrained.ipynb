{
  "nbformat": 4,
  "nbformat_minor": 0,
  "metadata": {
    "colab": {
      "name": "Untitled0.ipynb",
      "provenance": [],
      "private_outputs": true,
      "collapsed_sections": [],
      "toc_visible": true,
      "mount_file_id": "1r6gUDJ8nO5mz3j3KsYd6Y7v1KfrwNVfu",
      "authorship_tag": "ABX9TyNmJ3iJguKTtzffgXlcPNF/",
      "include_colab_link": true
    },
    "kernelspec": {
      "name": "python3",
      "display_name": "Python 3"
    },
    "accelerator": "GPU"
  },
  "cells": [
    {
      "cell_type": "markdown",
      "metadata": {
        "id": "view-in-github",
        "colab_type": "text"
      },
      "source": [
        "<a href=\"https://colab.research.google.com/github/Harsh-Gupta9897/DL-notebooks/blob/master/Dog_breed_prediction_pretrained.ipynb\" target=\"_parent\"><img src=\"https://colab.research.google.com/assets/colab-badge.svg\" alt=\"Open In Colab\"/></a>"
      ]
    },
    {
      "cell_type": "code",
      "metadata": {
        "id": "paMzlZQ_XMKE",
        "colab_type": "code",
        "colab": {}
      },
      "source": [
        "import torch\n",
        "torch.cuda.is_available()"
      ],
      "execution_count": null,
      "outputs": []
    },
    {
      "cell_type": "code",
      "metadata": {
        "id": "79tH94LyXSRb",
        "colab_type": "code",
        "colab": {}
      },
      "source": [
        "from torchvision import transforms,models"
      ],
      "execution_count": null,
      "outputs": []
    },
    {
      "cell_type": "code",
      "metadata": {
        "id": "78axaEj8XgXA",
        "colab_type": "code",
        "colab": {}
      },
      "source": [
        "dir(models)"
      ],
      "execution_count": null,
      "outputs": []
    },
    {
      "cell_type": "code",
      "metadata": {
        "id": "gOBs1kGAX6Hv",
        "colab_type": "code",
        "colab": {}
      },
      "source": [
        "resenet = models.resnet101(pretrained=True)"
      ],
      "execution_count": null,
      "outputs": []
    },
    {
      "cell_type": "code",
      "metadata": {
        "id": "dze5u9TgYLR7",
        "colab_type": "code",
        "colab": {}
      },
      "source": [
        "resenet\n"
      ],
      "execution_count": null,
      "outputs": []
    },
    {
      "cell_type": "code",
      "metadata": {
        "id": "KmHuw1g-YPS_",
        "colab_type": "code",
        "colab": {}
      },
      "source": [
        "processing = transforms.Compose([\n",
        "                                 transforms.Resize(256),\n",
        "                                 transforms.CenterCrop(224),\n",
        "                                 transforms.ToTensor(),\n",
        "                                 transforms.Normalize(\n",
        "                                     [0.485,0.456,0.406],\n",
        "                                     [0.229,0.224,0.225]       \n",
        "                                 )\n",
        "])"
      ],
      "execution_count": null,
      "outputs": []
    },
    {
      "cell_type": "code",
      "metadata": {
        "id": "qYrMxptnZUBt",
        "colab_type": "code",
        "colab": {}
      },
      "source": [
        "from PIL import Image\n",
        "img = Image.open('/content/drive/My Drive/Colab Notebooks/dog_breed prediction using pretrained model/dog1.jpg')\n",
        "img"
      ],
      "execution_count": null,
      "outputs": []
    },
    {
      "cell_type": "code",
      "metadata": {
        "id": "gxqlwCktbjE3",
        "colab_type": "code",
        "colab": {}
      },
      "source": [
        "img_t = processing(img)\n",
        "img_t"
      ],
      "execution_count": null,
      "outputs": []
    },
    {
      "cell_type": "code",
      "metadata": {
        "id": "x0Hv7uq2b0Mn",
        "colab_type": "code",
        "colab": {}
      },
      "source": [
        "im =torch.unsqueeze(img_t,0)\n",
        "print(img_t.size())\n",
        "print(im.size())\n"
      ],
      "execution_count": null,
      "outputs": []
    },
    {
      "cell_type": "code",
      "metadata": {
        "id": "PHUBBiK6cAer",
        "colab_type": "code",
        "colab": {}
      },
      "source": [
        "resenet.eval()\n",
        "out_im= resenet(im)"
      ],
      "execution_count": null,
      "outputs": []
    },
    {
      "cell_type": "code",
      "metadata": {
        "id": "s1mtwKmxcoyb",
        "colab_type": "code",
        "colab": {}
      },
      "source": [
        "out_im"
      ],
      "execution_count": null,
      "outputs": []
    },
    {
      "cell_type": "code",
      "metadata": {
        "id": "yrUrNkxVcqmh",
        "colab_type": "code",
        "colab": {}
      },
      "source": [
        "!wget https://raw.githubusercontent.com/deep-learning-with-pytorch/dlwpt-code/master/data/p1ch2/imagenet_classes.txt"
      ],
      "execution_count": null,
      "outputs": []
    },
    {
      "cell_type": "code",
      "metadata": {
        "id": "fXnldOo6fWjJ",
        "colab_type": "code",
        "colab": {}
      },
      "source": [
        "with open('imagenet_classes.txt') as f:\n",
        "    labels = [line.strip() for line in f.readlines()]\n",
        "labels"
      ],
      "execution_count": null,
      "outputs": []
    },
    {
      "cell_type": "code",
      "metadata": {
        "id": "BIAYUHspfdBr",
        "colab_type": "code",
        "colab": {}
      },
      "source": [
        "val,index= torch.max(out_im,1)\n",
        "val"
      ],
      "execution_count": null,
      "outputs": []
    },
    {
      "cell_type": "code",
      "metadata": {
        "id": "GlA4cvw9fm0U",
        "colab_type": "code",
        "colab": {}
      },
      "source": [
        "index"
      ],
      "execution_count": null,
      "outputs": []
    },
    {
      "cell_type": "code",
      "metadata": {
        "id": "qJDI3i1Wfn7t",
        "colab_type": "code",
        "colab": {}
      },
      "source": [
        "percentage = torch.nn.functional.softmax(out_im, dim=1)[0] * 100\n",
        "labels[index[0]], percentage[index[0]].item()"
      ],
      "execution_count": null,
      "outputs": []
    },
    {
      "cell_type": "code",
      "metadata": {
        "id": "x_XE2Hn2fyG4",
        "colab_type": "code",
        "colab": {}
      },
      "source": [
        "_, indices = torch.sort(out_im, descending=True)\n",
        "[(labels[idx], percentage[idx].item()) for idx in indices[0][:5]]"
      ],
      "execution_count": null,
      "outputs": []
    },
    {
      "cell_type": "code",
      "metadata": {
        "id": "6jPhALWXf_Qk",
        "colab_type": "code",
        "colab": {}
      },
      "source": [
        ""
      ],
      "execution_count": null,
      "outputs": []
    }
  ]
}